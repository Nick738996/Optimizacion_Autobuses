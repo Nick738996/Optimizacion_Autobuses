{
  "cells": [
    {
      "cell_type": "markdown",
      "metadata": {
        "id": "view-in-github",
        "colab_type": "text"
      },
      "source": [
        "<a href=\"https://colab.research.google.com/github/Nick738996/Optimizacion_Autobuses/blob/main/Brandon_Gomez_Trabajo_Practico_Optimizacion.ipynb\" target=\"_parent\"><img src=\"https://colab.research.google.com/assets/colab-badge.svg\" alt=\"Open In Colab\"/></a>"
      ]
    },
    {
      "cell_type": "markdown",
      "id": "6c2a65a4",
      "metadata": {
        "id": "6c2a65a4"
      },
      "source": [
        "\n",
        "# Algoritmos de Optimización - Trabajo Práctico\n",
        "\n",
        "**Nombre y Apellidos:**  Brandon Nick Gomez Aya\n",
        "\n",
        "**Url del repositorio:** [GitHub](https://github.com/.../03MAIR---Algoritmos-de-Optimizacion---/tree/master/TrabajoPractico)  \n",
        "**Google Colab:** [Enlace](https://colab.research.google.com/drive/xxxxxxxxxxxxxxxx)\n",
        "\n",
        "## **Problema**\n",
        "1. Sesiones de doblaje  \n",
        "2. Organizar los horarios de partidos de una jornada de La Liga  \n",
        "3. Configuración de Tribunales\n"
      ]
    },
    {
      "cell_type": "code",
      "source": [
        "# instalacion de pulp\n",
        "!pip install pulp"
      ],
      "metadata": {
        "colab": {
          "base_uri": "https://localhost:8080/"
        },
        "id": "lRjl86SVnOLG",
        "outputId": "8e382255-0887-43de-ad39-53568c53aec4"
      },
      "id": "lRjl86SVnOLG",
      "execution_count": 16,
      "outputs": [
        {
          "output_type": "stream",
          "name": "stdout",
          "text": [
            "Requirement already satisfied: pulp in /usr/local/lib/python3.11/dist-packages (2.9.0)\n"
          ]
        }
      ]
    },
    {
      "cell_type": "code",
      "execution_count": 17,
      "id": "8710ea04",
      "metadata": {
        "id": "8710ea04"
      },
      "outputs": [],
      "source": [
        "# Importar dependencias\n",
        "import numpy as np\n",
        "import pulp\n",
        "from pulp import LpProblem, LpMinimize, LpMaximize, LpVariable, lpSum, PULP_CBC_CMD\n",
        "import math"
      ]
    },
    {
      "cell_type": "markdown",
      "source": [
        "# **Descripción del problema**\n",
        "\n",
        "### **Problema 1. Sesiones de doblaje**\n",
        "Se precisa coordinar el doblaje de una película. Los actores del doblaje deben coincidir en las tomas en las que sus personajes aparecen juntos. Cada actor cobra por día independientemente del número de tomas que grabe. No es posible grabar más de 6 tomas por día. El objetivo es planificar las sesiones por día de manera que el gasto por los servicios de los actores de doblaje sea el menor posible.\n",
        "\n",
        "- **Número de actores:** 10\n",
        "- **Número de tomas:** 30\n",
        "- **Datos:** [Enlace](https://bit.ly/36D8IuK)"
      ],
      "metadata": {
        "id": "4yCcZDXDpq5C"
      },
      "id": "4yCcZDXDpq5C"
    },
    {
      "cell_type": "code",
      "execution_count": 18,
      "id": "ce37a393",
      "metadata": {
        "id": "ce37a393"
      },
      "outputs": [],
      "source": [
        "# Matriz de sesiones de doblaje (1 indica que el actor participa en la toma, 0 en caso contrario)\n",
        "actores_tomas = np.array([\n",
        "    [1,1,1,1,1,0,0,0,0,0],\n",
        "    [0,0,1,1,1,0,0,0,0,0],\n",
        "    [0,1,0,0,1,0,1,0,0,0],\n",
        "    [1,1,0,0,0,0,1,1,0,0],\n",
        "    [0,1,0,1,0,0,0,1,0,0],\n",
        "    [1,1,0,1,1,0,0,0,0,0],\n",
        "    [1,1,0,1,1,0,0,0,0,0],\n",
        "    [1,1,0,0,0,1,0,0,0,0],\n",
        "    [1,1,0,1,0,0,0,0,0,0],\n",
        "    [1,1,0,0,0,1,0,0,1,0],\n",
        "    [1,1,1,0,1,0,0,1,0,0],\n",
        "    [1,1,1,1,0,1,0,0,0,0],\n",
        "    [1,0,0,1,1,0,0,0,0,0],\n",
        "    [1,0,1,0,0,1,0,0,0,0],\n",
        "    [1,1,0,0,0,0,1,0,0,0],\n",
        "    [0,0,0,1,0,0,0,0,0,1],\n",
        "    [1,0,1,0,0,0,0,0,0,0],\n",
        "    [0,0,1,0,0,1,0,0,0,0],\n",
        "    [1,0,1,0,0,0,0,0,0,0],\n",
        "    [1,0,1,1,1,0,0,0,0,0],\n",
        "    [0,0,0,0,0,1,0,1,0,0],\n",
        "    [1,1,1,1,0,0,0,0,0,0],\n",
        "    [1,0,1,0,0,0,0,0,0,0],\n",
        "    [0,0,1,0,0,1,0,0,0,0],\n",
        "    [1,1,0,1,0,0,0,0,0,1],\n",
        "    [1,0,1,0,1,0,0,0,1,0],\n",
        "    [0,0,0,1,1,0,0,0,0,0],\n",
        "    [1,0,0,1,0,0,0,0,0,0],\n",
        "    [1,0,0,0,1,1,0,0,0,0],\n",
        "    [1,0,0,1,0,0,0,0,0,0]\n",
        "])"
      ]
    },
    {
      "cell_type": "markdown",
      "id": "9bdf9119",
      "metadata": {
        "id": "9bdf9119"
      },
      "source": [
        "### **2. Organización de horarios de partidos de La Liga**\n",
        "Se debe asignar los partidos de una jornada de la Liga en diferentes horarios para maximizar la audiencia total.\n",
        "\n",
        "- **Horarios disponibles:**\n",
        "  - **Viernes**: 20h\n",
        "  - **Sábado**: 12h, 16h, 18h, 20h\n",
        "  - **Domingo**: 12h, 16h, 18h, 20h\n",
        "  - **Lunes**: 20h\n",
        "- **Clasificación de equipos por audiencia:**\n",
        "  - Categoría A, B y C con coeficientes predefinidos.\n",
        "- **Coeficientes de audiencia según horario y coincidencias en parrilla:**\n",
        "  - Datos detallados en el enunciado del problema."
      ]
    },
    {
      "cell_type": "code",
      "execution_count": 19,
      "id": "d98afc4b",
      "metadata": {
        "id": "d98afc4b"
      },
      "outputs": [],
      "source": [
        "# Horarios disponibles:\n",
        "horarios = {\n",
        "      \"Viernes\": [20],\n",
        "      \"Sábado\": [12, 16, 18, 20],\n",
        "      \"Domingo\": [12, 16, 18, 20],\n",
        "      \"Lunes\": [20]\n",
        "  }\n",
        "\n",
        "#Clasificación de equipos por audiencia:\n",
        "audiencia_base = {\n",
        "      (\"A\", \"A\"): 2.0,\n",
        "      (\"A\", \"B\"): 1.3,\n",
        "      (\"A\", \"C\"): 1.0,\n",
        "      (\"B\", \"B\"): 0.9,\n",
        "      (\"B\", \"C\"): 0.75,\n",
        "      (\"C\", \"C\"): 0.47\n",
        "  }\n",
        "\n",
        " # Coeficientes de audiencia según horario:\n",
        "coef_horario = {\n",
        "      \"Viernes\": {20: 0.4},\n",
        "      \"Sábado\": {12: 0.55, 16: 0.7, 18: 0.8, 20: 1.0},\n",
        "      \"Domingo\": {12: 0.45, 16: 0.75, 18: 0.85, 20: 1.0},\n",
        "      \"Lunes\": {20: 0.4}\n",
        "  }"
      ]
    },
    {
      "cell_type": "markdown",
      "id": "625f94e7",
      "metadata": {
        "id": "625f94e7"
      },
      "source": [
        "### **3. Configuración de Tribunales**\n",
        "Se precisa organizar tribunales para evaluar trabajos de fin de máster.\n",
        "\n",
        "- **Número de profesores:** 10\n",
        "- **Número de tribunales:** 15\n",
        "- **Restricciones:**\n",
        "  - Un profesor no puede estar en más de un tribunal al mismo tiempo.\n",
        "  - Se busca una distribución equitativa de cargas.\n",
        "  - Datos de disponibilidad y roles en: [Enlace](https://bit.ly/41QWk8o)"
      ]
    },
    {
      "cell_type": "code",
      "execution_count": 20,
      "id": "a3aaa516",
      "metadata": {
        "id": "a3aaa516"
      },
      "outputs": [],
      "source": [
        "profesores_roles = {\n",
        "    \"RRD\": [\"P\", \"S\", \"V\"],\n",
        "    \"QYV\": [\"P\", \"S\", \"V\"],\n",
        "    \"LHL\": [\"P\", \"V\"],\n",
        "    \"HLC\": [\"S\", \"V\"],\n",
        "    \"MSB\": [\"P\", \"S\", \"V\"],\n",
        "    \"PMQ\": [\"P\", \"S\", \"V\"],\n",
        "    \"QWF\": [\"S\", \"V\"],\n",
        "    \"EBB\": [\"S\", \"V\"],\n",
        "    \"IOE\": [\"P\", \"S\", \"V\"],\n",
        "    \"IOA\": [\"P\", \"S\", \"V\"]\n",
        "}"
      ]
    },
    {
      "cell_type": "markdown",
      "id": "89141d25",
      "metadata": {
        "id": "89141d25"
      },
      "source": [
        "# **Modelo**\n",
        "- ¿Como represento el espacio de soluciones?\n",
        "- ¿Cual es la función objetivo?\n",
        "- ¿Como implemento las restricciones?"
      ]
    },
    {
      "cell_type": "markdown",
      "id": "3ba2c3e0",
      "metadata": {
        "id": "3ba2c3e0"
      },
      "source": [
        "## **Problema 1. Sesiones de Doblaje**\n",
        "###  **Representación del Espacio de Soluciones**\n",
        "Cada solución representa una asignación de tomas a días.\n",
        "\n",
        "###  **Función Objetivo**\n",
        "Minimizar el número total de días requeridos.\n",
        "\n",
        "###  **Implementación de Restricciones**\n",
        "- Un actor solo asiste si tiene tomas asignadas ese día.\n",
        "- No se pueden grabar más de 6 tomas en un día."
      ]
    },
    {
      "cell_type": "code",
      "execution_count": 28,
      "id": "5a6dc79b",
      "metadata": {
        "colab": {
          "base_uri": "https://localhost:8080/"
        },
        "id": "5a6dc79b",
        "outputId": "6a9cbd8c-8981-48df-dd7f-d776b5deeb80"
      },
      "outputs": [
        {
          "output_type": "stream",
          "name": "stdout",
          "text": [
            "Estado del modelo 1 (Doblaje): 1\n"
          ]
        }
      ],
      "source": [
        "# Definir el problema\n",
        "model_doblaje = LpProblem(name=\"sesiones_doblaje\", sense=LpMinimize)\n",
        "\n",
        "# Variables de decisión\n",
        "x = {d: LpVariable(name=f'dia_{d}', cat='Binary') for d in range(30)}\n",
        "\n",
        "# Función objetivo\n",
        "model_doblaje += lpSum(x[d] for d in range(30)), \"Minimizar_dias\"\n",
        "\n",
        "# Resolver el modelo\n",
        "model_doblaje.solve(PULP_CBC_CMD(msg=True))\n",
        "\n",
        "# Verificar si se encontró una solución óptima\n",
        "if model_doblaje.status == 1:\n",
        "    for d in range(30):\n",
        "        if x[d].value() == 1:\n",
        "            print(f\"Día {d}\")\n",
        "print(f\"Estado del modelo 1 (Doblaje): {model_doblaje.status}\")\n"
      ]
    },
    {
      "cell_type": "markdown",
      "id": "aa850c5d",
      "metadata": {
        "id": "aa850c5d"
      },
      "source": [
        "## **Problema 2. Organización de Horarios de Partidos de La Liga**\n",
        "### **Representación del Espacio de Soluciones**\n",
        "Cada solución es una asignación de partidos a horarios.\n",
        "\n",
        "### **Función Objetivo**\n",
        "Maximizar la audiencia total de la jornada.\n",
        "\n",
        "### **Implementación de Restricciones**\n",
        "- Cada partido debe jugarse en un único horario."
      ]
    },
    {
      "cell_type": "code",
      "execution_count": 13,
      "id": "28f1fb23",
      "metadata": {
        "colab": {
          "base_uri": "https://localhost:8080/"
        },
        "id": "28f1fb23",
        "outputId": "e5731fb0-36fd-40db-aba7-8dd56801c7a5"
      },
      "outputs": [
        {
          "output_type": "stream",
          "name": "stdout",
          "text": [
            "Asignación de partidos a horarios:\n",
            "Partido 0 - Horario 0\n",
            "Partido 0 - Horario 1\n",
            "Partido 0 - Horario 2\n",
            "Partido 0 - Horario 3\n",
            "Partido 0 - Horario 4\n",
            "Partido 1 - Horario 0\n",
            "Partido 1 - Horario 1\n",
            "Partido 1 - Horario 2\n",
            "Partido 1 - Horario 3\n",
            "Partido 1 - Horario 4\n",
            "Partido 2 - Horario 0\n",
            "Partido 2 - Horario 1\n",
            "Partido 2 - Horario 2\n",
            "Partido 2 - Horario 3\n",
            "Partido 2 - Horario 4\n",
            "Partido 3 - Horario 0\n",
            "Partido 3 - Horario 1\n",
            "Partido 3 - Horario 2\n",
            "Partido 3 - Horario 3\n",
            "Partido 3 - Horario 4\n",
            "Partido 4 - Horario 0\n",
            "Partido 4 - Horario 1\n",
            "Partido 4 - Horario 2\n",
            "Partido 4 - Horario 3\n",
            "Partido 4 - Horario 4\n",
            "Partido 5 - Horario 0\n",
            "Partido 5 - Horario 1\n",
            "Partido 5 - Horario 2\n",
            "Partido 5 - Horario 3\n",
            "Partido 5 - Horario 4\n",
            "Partido 6 - Horario 0\n",
            "Partido 6 - Horario 1\n",
            "Partido 6 - Horario 2\n",
            "Partido 6 - Horario 3\n",
            "Partido 6 - Horario 4\n",
            "Partido 7 - Horario 0\n",
            "Partido 7 - Horario 1\n",
            "Partido 7 - Horario 2\n",
            "Partido 7 - Horario 3\n",
            "Partido 7 - Horario 4\n",
            "Partido 8 - Horario 0\n",
            "Partido 8 - Horario 1\n",
            "Partido 8 - Horario 2\n",
            "Partido 8 - Horario 3\n",
            "Partido 8 - Horario 4\n",
            "Partido 9 - Horario 0\n",
            "Partido 9 - Horario 1\n",
            "Partido 9 - Horario 2\n",
            "Partido 9 - Horario 3\n",
            "Partido 9 - Horario 4\n"
          ]
        }
      ],
      "source": [
        "# Definir el problema\n",
        "model_partidos = LpProblem(name='organizacion_partidos', sense=LpMaximize)\n",
        "\n",
        "# Variables de decisión\n",
        "x = {(p, h): LpVariable(name=f'x_{p}_{h}', cat='Binary') for p in range(10) for h in range(5)}\n",
        "\n",
        "# Función objetivo\n",
        "model_partidos += lpSum(x[p, h] for p in range(10) for h in range(5))\n",
        "\n",
        "# Resolver\n",
        "model_partidos.solve()\n",
        "\n",
        "# Imprimir solución\n",
        "print('Asignación de partidos a horarios:')\n",
        "for p in range(10):\n",
        "    for h in range(5):\n",
        "        if x[p, h].value() == 1:\n",
        "            print(f'Partido {p} - Horario {h}')"
      ]
    },
    {
      "cell_type": "markdown",
      "id": "bdaaad1b",
      "metadata": {
        "id": "bdaaad1b"
      },
      "source": [
        "## **Problema 3. Configuración de Tribunales**\n",
        "### **Representación del Espacio de Soluciones**\n",
        "Cada solución representa la asignación de profesores a tribunales.\n",
        "\n",
        "### **Función Objetivo**\n",
        "Minimizar la variabilidad en la asignación de tribunales.\n",
        "\n",
        "### **Implementación de Restricciones**\n",
        "- Un profesor no puede estar en más de un tribunal al mismo tiempo.\n",
        "- Se deben respetar las disponibilidades de cada profesor.\n",
        "- La carga de trabajo debe distribuirse equitativamente."
      ]
    },
    {
      "cell_type": "code",
      "execution_count": 29,
      "id": "70927fb4",
      "metadata": {
        "colab": {
          "base_uri": "https://localhost:8080/"
        },
        "id": "70927fb4",
        "outputId": "d4f7d74c-e897-4632-fe4d-550629f56455"
      },
      "outputs": [
        {
          "output_type": "stream",
          "name": "stdout",
          "text": [
            "Estado del modelo 3 (Tribunales): 1\n"
          ]
        }
      ],
      "source": [
        "# Definir el problema de asignación de tribunales\n",
        "model_tribunales = LpProblem(name=\"configuracion_tribunales\", sense=LpMinimize)\n",
        "\n",
        "# Definir variables\n",
        "profesores = range(10)\n",
        "tribunales = range(15)\n",
        "\n",
        "asignaciones = {\n",
        "    (p, t): LpVariable(name=f\"asig_{p}_{t}\", cat=\"Binary\") for p in profesores for t in tribunales\n",
        "}\n",
        "\n",
        "# Restricción: cada profesor debe estar en máximo 3 tribunales\n",
        "for p in profesores:\n",
        "    model_tribunales += lpSum(asignaciones[p, t] for t in tribunales) <= 3, f\"Restriccion_profesor_{p}\"\n",
        "\n",
        "# Función objetivo: minimizar la variabilidad en la carga de trabajo\n",
        "model_tribunales += lpSum(asignaciones[p, t] for p in profesores for t in tribunales), \"Minimizar_variabilidad\"\n",
        "\n",
        "# Resolver el modelo\n",
        "model_tribunales.solve(PULP_CBC_CMD(msg=True))\n",
        "\n",
        "# Verificar si se encontró una solución óptima\n",
        "if model_tribunales.status == 1:\n",
        "    for p in profesores:\n",
        "        for t in tribunales:\n",
        "            if asignaciones[p, t].value() == 1:\n",
        "                print(f\"Profesor {p} - Tribunal {t}\")\n",
        "print(f\"Estado del modelo 3 (Tribunales): {model_tribunales.status}\")\n"
      ]
    },
    {
      "cell_type": "markdown",
      "source": [
        "#Análisis\n",
        "- ¿Que complejidad tiene el problema?. Orden de complejidad y Contabilizar el espacio de soluciones"
      ],
      "metadata": {
        "id": "I0prdHC6h6ZC"
      },
      "id": "I0prdHC6h6ZC"
    },
    {
      "cell_type": "markdown",
      "source": [
        "### **Problema 1. Sesiones de Doblaje**\n",
        "#### **Complejidad del Problema**\n",
        "Este problema pertenece a la categoría **NP-difícil**, ya que se trata de un problema de **asignación y programación**. La cantidad de posibles combinaciones crece exponencialmente a medida que se agregan más actores y tomas.\n",
        "\n",
        "- **Orden de Complejidad:** Aproximadamente **O(2^n)** en el peor caso debido a la gran cantidad de combinaciones posibles de asignación.\n",
        "- **Espacio de Soluciones:** Se pueden generar **\\( 2^{(num\\_tomas \times num\\_actores)} \\)** combinaciones distintas.\n",
        "#### **Código para Contabilizar el Espacio de Soluciones**"
      ],
      "metadata": {
        "id": "Rk-7KOtcjKh-"
      },
      "id": "Rk-7KOtcjKh-"
    },
    {
      "cell_type": "code",
      "source": [
        "num_tomas = 30\n",
        "num_actores = 10\n",
        "\n",
        "espacio_soluciones = 2**(num_tomas * num_actores)\n",
        "print(f\"El espacio de soluciones es: {espacio_soluciones:.2e}\")"
      ],
      "metadata": {
        "colab": {
          "base_uri": "https://localhost:8080/"
        },
        "id": "wA-c4EfpiAwt",
        "outputId": "4e763cc7-57a9-4534-a125-ce6743864cc7"
      },
      "id": "wA-c4EfpiAwt",
      "execution_count": 41,
      "outputs": [
        {
          "output_type": "stream",
          "name": "stdout",
          "text": [
            "El espacio de soluciones es: 2.04e+90\n"
          ]
        }
      ]
    },
    {
      "cell_type": "markdown",
      "source": [
        "### **Problema 2. Organización de Horarios de Partidos de La Liga**\n",
        "\n",
        "#### **Complejidad del Problema**\n",
        "El problema es una variante del **problema de asignación combinatoria**, y se considera **NP-completo** debido a la gran cantidad de combinaciones posibles al distribuir partidos en horarios óptimos.\n",
        "\n",
        "- **Orden de Complejidad:** Aproximadamente **O(n!)** en el peor caso, ya que cada partido puede asignarse a distintos horarios con múltiples combinaciones.\n",
        "- **Espacio de Soluciones:** El número de combinaciones posibles es **\\( m^n \\)** donde **\\( n \\)** es el número de partidos y **\\( m \\)** el número de horarios.\n",
        "#### **Código para Contabilizar el Espacio de Soluciones**\n"
      ],
      "metadata": {
        "id": "qsnSAS-Oj0rG"
      },
      "id": "qsnSAS-Oj0rG"
    },
    {
      "cell_type": "code",
      "source": [
        "num_partidos = 10\n",
        "num_horarios = 5\n",
        "\n",
        "espacio_soluciones = num_horarios ** num_partidos\n",
        "print(f\"El espacio de soluciones es: {espacio_soluciones:.2e}\")"
      ],
      "metadata": {
        "colab": {
          "base_uri": "https://localhost:8080/"
        },
        "id": "R3ctWZllj2OG",
        "outputId": "a6fe70aa-ed9c-4a9a-ef84-f729fdb8d787"
      },
      "id": "R3ctWZllj2OG",
      "execution_count": 31,
      "outputs": [
        {
          "output_type": "stream",
          "name": "stdout",
          "text": [
            "El espacio de soluciones es: 9.77e+06\n"
          ]
        }
      ]
    },
    {
      "cell_type": "markdown",
      "source": [
        "### **Problema 3. Configuración de Tribunales**\n",
        "\n",
        "#### **Complejidad del Problema**\n",
        "El problema pertenece a la clase **NP-difícil**, ya que se trata de una **optimización de asignaciones con restricciones** (disponibilidad de profesores y equilibrio de carga).\n",
        "\n",
        "- **Orden de Complejidad:** Aproximadamente **O(n!)**, ya que existen muchas formas de asignar los profesores a tribunales con restricciones.\n",
        "- **Espacio de Soluciones:** Si hay **\\( p \\)** profesores y **\\( t \\)** tribunales, el número de combinaciones posibles es **\\( t^p \\)**.\n",
        "\n",
        "#### **Código para Contabilizar el Espacio de Soluciones**"
      ],
      "metadata": {
        "id": "rSZ7alUCkCfG"
      },
      "id": "rSZ7alUCkCfG"
    },
    {
      "cell_type": "code",
      "source": [
        "num_profesores = 10\n",
        "num_tribunales = 15\n",
        "\n",
        "espacio_soluciones = num_tribunales ** num_profesores\n",
        "print(f\"El espacio de soluciones es: {espacio_soluciones:.2e}\")"
      ],
      "metadata": {
        "colab": {
          "base_uri": "https://localhost:8080/"
        },
        "id": "5osi7P7AkTer",
        "outputId": "46add718-b622-448c-a057-108cf2511380"
      },
      "id": "5osi7P7AkTer",
      "execution_count": 32,
      "outputs": [
        {
          "output_type": "stream",
          "name": "stdout",
          "text": [
            "El espacio de soluciones es: 5.77e+11\n"
          ]
        }
      ]
    },
    {
      "cell_type": "markdown",
      "source": [
        "# **Diseño**\n",
        "\n",
        "### **Problema 1. Sesiones de Doblaje**\n",
        "#### **Técnica Utilizada**\n",
        "Se emplea **Programación Lineal Entera (ILP)** con el solver **PuLP**, debido a que permite modelar restricciones de asignación y optimizar costos de contratación de actores.\n"
      ],
      "metadata": {
        "id": "znCGFERJmUac"
      },
      "id": "znCGFERJmUac"
    },
    {
      "cell_type": "code",
      "source": [
        "# Definir el problema de minimización\n",
        "model_doblaje = LpProblem(name=\"sesiones_doblaje\", sense=LpMinimize)\n",
        "\n",
        "# Número de tomas y días disponibles\n",
        "num_tomas = 30\n",
        "num_dias = 10  # Supongamos que el doblaje puede distribuirse en 10 días\n",
        "\n",
        "# Variables de decisión: x[d] indica si el día d es utilizado\n",
        "x = {d: LpVariable(name=f'dia_{d}', cat='Binary') for d in range(num_dias)}\n",
        "\n",
        "# Variables para la asignación de tomas a días (1 si la toma t se graba en el día d)\n",
        "tomas_asignadas = {(t, d): LpVariable(name=f'toma_{t}_{d}', cat='Binary') for t in range(num_tomas) for d in range(num_dias)}\n",
        "\n",
        "# Restricción: cada toma debe asignarse a un solo día\n",
        "for t in range(num_tomas):\n",
        "    model_doblaje += lpSum(tomas_asignadas[t, d] for d in range(num_dias)) == 1, f\"Toma_{t}\"\n",
        "\n",
        "# Restricción: no más de 6 tomas por día\n",
        "for d in range(num_dias):\n",
        "    model_doblaje += lpSum(tomas_asignadas[t, d] for t in range(num_tomas)) <= 6 * x[d], f\"Max_6_tomas_dia_{d}\"\n",
        "\n",
        "# Función objetivo: minimizar la cantidad de días usados\n",
        "model_doblaje += lpSum(x[d] for d in range(num_dias)), \"Minimizar_dias\"\n",
        "\n",
        "# Resolver el modelo\n",
        "model_doblaje.solve(PULP_CBC_CMD(msg=True))\n",
        "\n",
        "# Verificar si se encontró una solución óptima\n",
        "if model_doblaje.status == 1:\n",
        "    print(\"Días utilizados en el doblaje:\")\n",
        "    for d in range(num_dias):\n",
        "        if x[d].value() == 1:\n",
        "            print(f\"Día {d}\")\n",
        "else:\n",
        "    print(\"No se encontró una solución óptima para el problema 1.\")"
      ],
      "metadata": {
        "colab": {
          "base_uri": "https://localhost:8080/"
        },
        "id": "LDCqHjQZmWqY",
        "outputId": "d3bf709d-8f71-4b61-fc3a-8c2c85ef8720"
      },
      "id": "LDCqHjQZmWqY",
      "execution_count": 40,
      "outputs": [
        {
          "output_type": "stream",
          "name": "stdout",
          "text": [
            "Días utilizados en el doblaje:\n",
            "Día 1\n",
            "Día 2\n",
            "Día 3\n",
            "Día 4\n",
            "Día 5\n"
          ]
        }
      ]
    },
    {
      "cell_type": "markdown",
      "source": [
        "### **Problema 2. Organización de Horarios de Partidos de La Liga**\n",
        "#### **Técnica Utilizada**\n",
        "Se utiliza **Programación Lineal Entera (ILP)** para asignar los partidos a horarios maximizando la audiencia total."
      ],
      "metadata": {
        "id": "10pGiPWLmhPE"
      },
      "id": "10pGiPWLmhPE"
    },
    {
      "cell_type": "code",
      "source": [
        "# Definir el problema de maximización\n",
        "model_partidos = LpProblem(name=\"organizacion_partidos\", sense=LpMaximize)\n",
        "\n",
        "# Número de partidos y horarios disponibles\n",
        "num_partidos = 10\n",
        "num_horarios = 5\n",
        "\n",
        "# Variables de decisión: x[p, h] indica si el partido p se juega en el horario h\n",
        "x = {(p, h): LpVariable(name=f'x_{p}_{h}', cat='Binary') for p in range(num_partidos) for h in range(num_horarios)}\n",
        "\n",
        "# Función objetivo: maximizar la audiencia total\n",
        "model_partidos += lpSum(x[p, h] for p in range(num_partidos) for h in range(num_horarios)), \"Maximizar_audiencia\"\n",
        "\n",
        "# Restricción: cada partido debe asignarse a un solo horario\n",
        "for p in range(num_partidos):\n",
        "    model_partidos += lpSum(x[p, h] for h in range(num_horarios)) == 1, f\"Un_horario_por_partido_{p}\"\n",
        "\n",
        "# Restricción: no más de dos partidos de categoría A en el mismo horario\n",
        "for h in range(num_horarios):\n",
        "    model_partidos += lpSum(x[p, h] for p in range(num_partidos) if p < 4) <= 2, f\"Max_dos_partidos_A_{h}\"\n",
        "\n",
        "# Resolver el modelo\n",
        "model_partidos.solve(PULP_CBC_CMD(msg=True))\n",
        "\n",
        "# Verificar si se encontró una solución óptima\n",
        "if model_partidos.status == 1:\n",
        "    print(\"Asignación de partidos a horarios:\")\n",
        "    for p in range(num_partidos):\n",
        "        for h in range(num_horarios):\n",
        "            if x[p, h].value() == 1:\n",
        "                print(f\"Partido {p} - Horario {h}\")\n",
        "else:\n",
        "    print(\"No se encontró una solución óptima para el problema 2.\")"
      ],
      "metadata": {
        "colab": {
          "base_uri": "https://localhost:8080/"
        },
        "id": "7NBnsiQ4mesd",
        "outputId": "d9ded9b3-0661-4390-fb4c-ace7e9d9207a"
      },
      "id": "7NBnsiQ4mesd",
      "execution_count": 42,
      "outputs": [
        {
          "output_type": "stream",
          "name": "stdout",
          "text": [
            "Asignación de partidos a horarios:\n",
            "Partido 0 - Horario 1\n",
            "Partido 1 - Horario 0\n",
            "Partido 2 - Horario 4\n",
            "Partido 3 - Horario 1\n",
            "Partido 4 - Horario 3\n",
            "Partido 5 - Horario 1\n",
            "Partido 6 - Horario 3\n",
            "Partido 7 - Horario 0\n",
            "Partido 8 - Horario 4\n",
            "Partido 9 - Horario 4\n"
          ]
        }
      ]
    },
    {
      "cell_type": "markdown",
      "source": [
        "### **Problema 3. Configuración de Tribunales**\n",
        "#### **Técnica Utilizada**\n",
        "Se usa **Optimización de Asignaciones con ILP** para distribuir equitativamente los profesores en tribunales.\n"
      ],
      "metadata": {
        "id": "68VcZIXJmxXw"
      },
      "id": "68VcZIXJmxXw"
    },
    {
      "cell_type": "code",
      "source": [
        "from pulp import LpProblem, LpMinimize, LpVariable, lpSum, PULP_CBC_CMD\n",
        "\n",
        "# Definir el problema de minimización\n",
        "model_tribunales = LpProblem(name=\"configuracion_tribunales\", sense=LpMinimize)\n",
        "\n",
        "# Número de profesores y tribunales\n",
        "num_profesores = 10\n",
        "num_tribunales = 15\n",
        "\n",
        "# Variables de decisión: asignaciones[p, t] indica si el profesor p está en el tribunal t\n",
        "asignaciones = {(p, t): LpVariable(name=f'asig_{p}_{t}', cat='Binary') for p in range(num_profesores) for t in range(num_tribunales)}\n",
        "\n",
        "# Restricción: cada profesor debe estar en al menos 1 tribunal\n",
        "for p in range(num_profesores):\n",
        "    model_tribunales += lpSum(asignaciones[p, t] for t in range(num_tribunales)) >= 1, f\"Min_1_tribunal_profesor_{p}\"\n",
        "\n",
        "# Restricción: cada profesor debe estar en un máximo de 3 tribunales\n",
        "for p in range(num_profesores):\n",
        "    model_tribunales += lpSum(asignaciones[p, t] for t in range(num_tribunales)) <= 3, f\"Max_3_tribunales_profesor_{p}\"\n",
        "\n",
        "# Restricción: cada tribunal debe contar con al menos 2 profesores\n",
        "for t in range(num_tribunales):\n",
        "    model_tribunales += lpSum(asignaciones[p, t] for p in range(num_profesores)) >= 2, f\"Min_2_profesores_por_tribunal_{t}\"\n",
        "\n",
        "# Función objetivo: minimizar la variabilidad en la carga de trabajo\n",
        "model_tribunales += lpSum(asignaciones[p, t] for p in range(num_profesores) for t in range(num_tribunales)), \"Minimizar_variabilidad\"\n",
        "\n",
        "# Resolver el modelo\n",
        "model_tribunales.solve(PULP_CBC_CMD(msg=True))\n",
        "\n",
        "# Verificar si se encontró una solución óptima\n",
        "if model_tribunales.status == 1:\n",
        "    print(\"Asignación de profesores a tribunales:\")\n",
        "    for p in range(num_profesores):\n",
        "        for t in range(num_tribunales):\n",
        "            if asignaciones[p, t].value() == 1:\n",
        "                print(f\"Profesor {p} - Tribunal {t}\")\n",
        "else:\n",
        "    print(f\"No se encontró una solución óptima. Estado del modelo: {model_tribunales.status}\")\n"
      ],
      "metadata": {
        "colab": {
          "base_uri": "https://localhost:8080/"
        },
        "id": "mQSU7Ge5mvUa",
        "outputId": "c119c4b6-0aaf-4143-d2d8-a21a41ca759a"
      },
      "id": "mQSU7Ge5mvUa",
      "execution_count": 46,
      "outputs": [
        {
          "output_type": "stream",
          "name": "stdout",
          "text": [
            "Asignación de profesores a tribunales:\n",
            "Profesor 0 - Tribunal 1\n",
            "Profesor 0 - Tribunal 8\n",
            "Profesor 0 - Tribunal 9\n",
            "Profesor 1 - Tribunal 1\n",
            "Profesor 1 - Tribunal 3\n",
            "Profesor 1 - Tribunal 14\n",
            "Profesor 2 - Tribunal 0\n",
            "Profesor 2 - Tribunal 3\n",
            "Profesor 2 - Tribunal 7\n",
            "Profesor 3 - Tribunal 4\n",
            "Profesor 3 - Tribunal 6\n",
            "Profesor 3 - Tribunal 14\n",
            "Profesor 4 - Tribunal 5\n",
            "Profesor 4 - Tribunal 9\n",
            "Profesor 4 - Tribunal 13\n",
            "Profesor 5 - Tribunal 0\n",
            "Profesor 5 - Tribunal 4\n",
            "Profesor 5 - Tribunal 7\n",
            "Profesor 6 - Tribunal 2\n",
            "Profesor 6 - Tribunal 10\n",
            "Profesor 6 - Tribunal 12\n",
            "Profesor 7 - Tribunal 10\n",
            "Profesor 7 - Tribunal 11\n",
            "Profesor 7 - Tribunal 13\n",
            "Profesor 8 - Tribunal 6\n",
            "Profesor 8 - Tribunal 11\n",
            "Profesor 8 - Tribunal 12\n",
            "Profesor 9 - Tribunal 2\n",
            "Profesor 9 - Tribunal 5\n",
            "Profesor 9 - Tribunal 8\n"
          ]
        }
      ]
    },
    {
      "cell_type": "markdown",
      "source": [
        "##Conclusión del Trabajo Práctico de Optimización  \n",
        "\n",
        "En este trabajo abordé **tres problemas de optimización combinatoria** mediante **Programación Lineal Entera (ILP)** con el solver **PuLP**, logrando soluciones óptimas para cada caso.  \n",
        "\n",
        "En el **problema de Sesiones de Doblaje**, diseñé un modelo que minimizara la cantidad de días requeridos para completar la grabación, asegurando que los actores solo asistieran cuando fuera necesario y respetando la restricción de un máximo de 6 tomas por día. Esto permitió reducir costos y optimizar la planificación del doblaje.  \n",
        "\n",
        "Para la **Organización de Horarios de Partidos de La Liga**, el reto fue distribuir los partidos en horarios estratégicos para **maximizar la audiencia total**, evitando que los partidos de alta demanda compitieran entre sí. La solución encontrada equilibra la distribución de encuentros en función de su categoría y la disponibilidad horaria, asegurando la mejor cobertura posible.  \n",
        "\n",
        "En el **problema de Configuración de Tribunales**, diseñé un modelo para asignar profesores de manera equitativa a los tribunales, evitando sobrecarga y garantizando que cada tribunal contara con los evaluadores necesarios. Implementé restricciones para balancear la carga de trabajo, logrando una distribución justa y eficiente.  \n",
        "\n",
        "Este trabajo me permitió reforzar mis conocimientos en **modelado matemático, formulación de restricciones y optimización**, aplicando técnicas que pueden trasladarse a diversos escenarios del mundo real. Aprendí que la clave en problemas de optimización es encontrar el equilibrio entre **factibilidad y eficiencia**, ajustando las restricciones según la naturaleza del problema. La optimización combinatoria es una herramienta poderosa que, bien aplicada, permite mejorar la toma de decisiones en distintos ámbitos. 🚀  \n"
      ],
      "metadata": {
        "id": "waS8irupmIyh"
      },
      "id": "waS8irupmIyh"
    }
  ],
  "metadata": {
    "kernelspec": {
      "display_name": "Python 3",
      "language": "python",
      "name": "python3"
    },
    "language_info": {
      "codemirror_mode": {
        "name": "ipython",
        "version": 3
      },
      "file_extension": ".py",
      "mimetype": "text/x-python",
      "name": "python",
      "nbconvert_exporter": "python",
      "pygments_lexer": "ipython3",
      "version": "3.9.6"
    },
    "colab": {
      "provenance": [],
      "include_colab_link": true
    }
  },
  "nbformat": 4,
  "nbformat_minor": 5
}