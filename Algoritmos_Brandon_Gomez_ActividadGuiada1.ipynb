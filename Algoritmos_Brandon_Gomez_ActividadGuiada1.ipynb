{
  "nbformat": 4,
  "nbformat_minor": 0,
  "metadata": {
    "colab": {
      "provenance": []
    },
    "kernelspec": {
      "name": "python3",
      "display_name": "Python 3"
    },
    "language_info": {
      "name": "python"
    }
  },
  "cells": [
    {
      "cell_type": "markdown",
      "source": [
        "# Actividad Guiada 1: Optimización de Autobuses\n",
        "\n",
        "## Introducción\n",
        "Esta actividad tiene como objetivo resolver el problema de optimización de autobuses utilizando Google Colab. La meta es determinar el número mínimo de autobuses necesarios para cubrir demandas horarias bajo las siguientes condiciones:\n",
        "\n",
        "- Cada autobús puede operar un máximo de 8 horas consecutivas.\n",
        "- La demanda mínima debe ser cubierta en cada tramo horario.\n"
      ],
      "metadata": {
        "id": "NEq7G0pKi_Sg"
      }
    },
    {
      "cell_type": "markdown",
      "source": [
        "## 1. Importar Librerías Necesarias"
      ],
      "metadata": {
        "id": "rHbZ1CCPi8Qz"
      }
    },
    {
      "cell_type": "code",
      "source": [
        "import itertools"
      ],
      "metadata": {
        "id": "WDx_76JlixHU"
      },
      "execution_count": 22,
      "outputs": []
    },
    {
      "cell_type": "markdown",
      "source": [
        "## 2. Datos del Problema"
      ],
      "metadata": {
        "id": "ZGpHfZDVk7od"
      }
    },
    {
      "cell_type": "code",
      "source": [
        "# Tramos horarios y demanda mínima por tramo\n",
        "demanda = [4, 8, 10, 7, 12, 4]  # Demanda mínima para cada tramo horario"
      ],
      "metadata": {
        "id": "xiVNB1IfjU-s"
      },
      "execution_count": 23,
      "outputs": []
    },
    {
      "cell_type": "markdown",
      "source": [
        "## 3. Función Objetivo\n",
        "Esta función calcula el número total de autobuses para una solución dada."
      ],
      "metadata": {
        "id": "xfWkdeh-wL4z"
      }
    },
    {
      "cell_type": "code",
      "source": [
        "def funcion_objetivo(solucion):\n",
        "    # Calcula el número total de autobuses para una solución dada\n",
        "    return sum(solucion)"
      ],
      "metadata": {
        "id": "PzPZwQoyqMjY"
      },
      "execution_count": 24,
      "outputs": []
    },
    {
      "cell_type": "markdown",
      "source": [
        "## 4. Verificación de Restricciones\n",
        "Esta función verifica si una solución cumple las restricciones del problema.\n"
      ],
      "metadata": {
        "id": "H-cxXRcqwS9q"
      }
    },
    {
      "cell_type": "code",
      "source": [
        "def cumple_restricciones(solucion, demanda):\n",
        "    # Verifica si una solución cumple las restricciones del problema.\n",
        "    for i in range(len(demanda)):\n",
        "        # Los autobuses asignados deben cubrir la demanda del tramo actual y el anterior\n",
        "        if solucion[i] + solucion[i - 1] < demanda[i]:\n",
        "            return False\n",
        "    return True"
      ],
      "metadata": {
        "id": "sxMJ55oMwbY0"
      },
      "execution_count": 25,
      "outputs": []
    },
    {
      "cell_type": "markdown",
      "source": [
        "## 5. Generación de Soluciones por Fuerza Bruta\n",
        "Esta función genera todas las soluciones posibles y devuelve la solución óptima."
      ],
      "metadata": {
        "id": "0-QhkoE_wtRW"
      }
    },
    {
      "cell_type": "code",
      "source": [
        "def resolver_fuerza_bruta(demanda):\n",
        "    # Genera todas las soluciones posibles y devuelve la óptima.\n",
        "    num_tramos = len(demanda)\n",
        "    mejor_solucion = None\n",
        "    mejor_valor = float('inf')\n",
        "\n",
        "    # Generar todas las combinaciones posibles de asignaciones (de 0 a demanda máxima en cada tramo)\n",
        "    for solucion in itertools.product(range(max(demanda) + 1), repeat=num_tramos):\n",
        "        if cumple_restricciones(solucion, demanda):\n",
        "            valor_actual = funcion_objetivo(solucion)\n",
        "            if valor_actual < mejor_valor:\n",
        "                mejor_valor = valor_actual\n",
        "                mejor_solucion = solucion\n",
        "\n",
        "    return mejor_solucion, mejor_valor"
      ],
      "metadata": {
        "id": "8u9y5SD6wsro"
      },
      "execution_count": 27,
      "outputs": []
    },
    {
      "cell_type": "markdown",
      "source": [
        "## 6. Resolución del Problema\n",
        "Ejecutamos la función para encontrar la solución óptima."
      ],
      "metadata": {
        "id": "ZRQzGGrow05o"
      }
    },
    {
      "cell_type": "code",
      "source": [
        "solucion_optima, valor_optimo = resolver_fuerza_bruta(demanda)"
      ],
      "metadata": {
        "id": "VN3VJtcQwyIJ"
      },
      "execution_count": 28,
      "outputs": []
    },
    {
      "cell_type": "markdown",
      "source": [
        "## 7. Resultados\n",
        "Mostramos los resultados obtenidos."
      ],
      "metadata": {
        "id": "eIpvXpkLw7Pc"
      }
    },
    {
      "cell_type": "code",
      "source": [
        "print(\"Demanda mínima por tramo:\", demanda)\n",
        "print(\"Solución óptima (autobuses por tramo):\", solucion_optima)\n",
        "print(\"Número mínimo de autobuses necesarios:\", valor_optimo)"
      ],
      "metadata": {
        "colab": {
          "base_uri": "https://localhost:8080/"
        },
        "id": "B9ceMemdw4ec",
        "outputId": "26e802d5-950b-47b0-d422-b6eb8f52ac46"
      },
      "execution_count": 30,
      "outputs": [
        {
          "output_type": "stream",
          "name": "stdout",
          "text": [
            "Demanda mínima por tramo: [4, 8, 10, 7, 12, 4]\n",
            "Solución óptima (autobuses por tramo): (0, 8, 2, 5, 7, 4)\n",
            "Número mínimo de autobuses necesarios: 26\n"
          ]
        }
      ]
    },
    {
      "cell_type": "markdown",
      "source": [
        "## 8. Análisis del Orden de Complejidad\n",
        "### Complejidad del Algoritmo\n",
        "El algoritmo de fuerza bruta tiene una complejidad exponencial debido a la generación de todas las combinaciones posibles.\n",
        "\n",
        "#### Factores que afectan la complejidad:\n",
        "- Si hay **n** tramos horarios y cada tramo tiene una asignación de 0 a **m** autobuses, el número de combinaciones es \\((m+1)^n\\).\n",
        "\n",
        "Este análisis destaca la importancia de buscar algoritmos más eficientes para problemas más grandes."
      ],
      "metadata": {
        "id": "LmBAWfM-xBxL"
      }
    }
  ]
}